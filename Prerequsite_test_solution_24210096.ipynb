{
  "nbformat": 4,
  "nbformat_minor": 0,
  "metadata": {
    "colab": {
      "provenance": []
    },
    "kernelspec": {
      "name": "python3",
      "display_name": "Python 3"
    },
    "language_info": {
      "name": "python"
    }
  },
  "cells": [
    {
      "cell_type": "markdown",
      "source": [
        "**1.How many multiplications and additions do you need to perform a matrix multiplication between a (n, k) and (k, m) matrix? Explain.**"
      ],
      "metadata": {
        "id": "9-cgQKifVwIV"
      }
    },
    {
      "cell_type": "markdown",
      "source": [
        "**ANSWER**\n",
        "To solve this question i have taken example of two matrix A of 2x3 and B of 3x4,\n",
        "the first row of A which contains 3 elements will be multiplied with first column of B which contains 3 elements, it will contain 3 multiplication operation and 2 addition operations, the same thing will happen for all elements in the resulting matrix, the no. of element in resulting matrix is 2x4,\n",
        "Hence the total no. of multiplication will be 3x2x4 = 24\n",
        "the total no. of addition will be 2x2x4 = 16\n",
        "we can derive the general formula for two matrix a (n, k) and (k, m) will be\n",
        "Multiplications --> n x m x k\n",
        "Additions --> n x m x (k-1)."
      ],
      "metadata": {
        "id": "mTRCarbvYwgR"
      }
    },
    {
      "cell_type": "markdown",
      "source": [
        "**2.Write Python code to multiply the above two matrices. Solve using list of lists and then use numpy. Compare the timing of both solutions. Which one is faster? Why?**"
      ],
      "metadata": {
        "id": "DIzjoJ9uWGhm"
      }
    },
    {
      "cell_type": "code",
      "source": [
        "#using list os list\n",
        "%%time\n",
        "def matrix_multiply(A, B):\n",
        "     n = len(A)\n",
        "     k = len(A[0])\n",
        "     k2 = len(B)\n",
        "     m = len(B[0])\n",
        "     if k != k2:\n",
        "      print('error in dimention')\n",
        "      return\n",
        "     result = []\n",
        "     for i in range(m):\n",
        "        row = [0] * n\n",
        "        result.append(row)\n",
        "     for i in range(n):\n",
        "        for j in range(m):\n",
        "            for l in range(k):\n",
        "                result[i][j] += A[i][l] * B[l][j]\n",
        "\n",
        "     return result\n",
        "\n",
        "# Example usage\n",
        "A = [[1, 2],\n",
        "    [3, 4]]\n",
        "\n",
        "B = [[5, 6],\n",
        "    [7, 8]]\n",
        "\n",
        "result = matrix_multiply(A, B)\n",
        "print(\"Result of A * B:\")\n",
        "for row in result:\n",
        "    print(row)\n"
      ],
      "metadata": {
        "colab": {
          "base_uri": "https://localhost:8080/"
        },
        "id": "ff3qP8DXWXFg",
        "outputId": "68be7655-bed9-4b50-c9b2-77c8f8658a12"
      },
      "execution_count": null,
      "outputs": [
        {
          "output_type": "stream",
          "name": "stdout",
          "text": [
            "Result of A * B:\n",
            "[19, 22]\n",
            "[43, 50]\n",
            "CPU times: user 1.76 ms, sys: 0 ns, total: 1.76 ms\n",
            "Wall time: 2.32 ms\n"
          ]
        }
      ]
    },
    {
      "cell_type": "code",
      "source": [
        "#using numpy predefined function\n",
        "%%time\n",
        "import numpy as np\n",
        "A = np.array([[1, 2],\n",
        "    [3, 4]])\n",
        "\n",
        "B = np.array([[5, 6],\n",
        "    [7, 8]\n",
        "])\n",
        "\n",
        "result = np.matmul(A, B)\n",
        "\n",
        "print(\"Result of A * B:\")\n",
        "print(result)\n"
      ],
      "metadata": {
        "colab": {
          "base_uri": "https://localhost:8080/"
        },
        "id": "xMawQ0YLik3g",
        "outputId": "d87cc32a-6858-4abe-f50c-3de47c65cf73"
      },
      "execution_count": null,
      "outputs": [
        {
          "output_type": "stream",
          "name": "stdout",
          "text": [
            "Result of A * B:\n",
            "[[19 22]\n",
            " [43 50]]\n",
            "CPU times: user 816 µs, sys: 0 ns, total: 816 µs\n",
            "Wall time: 944 µs\n"
          ]
        }
      ]
    },
    {
      "cell_type": "markdown",
      "source": [
        "CPU time in Lisit of list 1.76 ms and time in numpy is 816 µs thus numpy is faster\n"
      ],
      "metadata": {
        "id": "vPpvO-C9jElU"
      }
    },
    {
      "cell_type": "markdown",
      "source": [
        "**3.Finding the highest element in a list requires one pass of the array. Finding the second highest element requires 2 passes of the the array. Using this method, what is the time complexity of finding the median of the array? Can you suggest a better method? Can you implement both these methods in Python and compare against numpy.median routine in terms of time?**"
      ],
      "metadata": {
        "id": "lmIN3JwjXddN"
      }
    },
    {
      "cell_type": "markdown",
      "source": [
        "**ANSWER**\n",
        "using the first method the complexity will be $O(n^2)$ because for finding largest elements it takes $O(n)$ time and repeat it for n elements store all elemts in the new array and just find mid element it will take total $O(n^2)$   \n",
        "\n",
        "second methid would be first sort the array and find the mid element it will take $O(nlogn)$ time"
      ],
      "metadata": {
        "id": "_l4Q47boNYYa"
      }
    },
    {
      "cell_type": "code",
      "source": [
        "%%time\n",
        "arr = [5,2,1,6,7,3,1,5,2]\n",
        "# first method\n",
        "def median(arr):\n",
        "    arr2 = []\n",
        "    while arr:\n",
        "        largest = max(arr)\n",
        "        arr2.append(largest)\n",
        "        arr.remove(largest)\n",
        "\n",
        "    return arr2\n",
        "arr = median(arr)\n",
        "n = len(arr)\n",
        "Median = n//2\n",
        "print(arr[Median])"
      ],
      "metadata": {
        "colab": {
          "base_uri": "https://localhost:8080/"
        },
        "id": "7sqQA7D9PwQg",
        "outputId": "1089681f-f854-4deb-ea0e-5dd9f2619f1b"
      },
      "execution_count": 30,
      "outputs": [
        {
          "output_type": "stream",
          "name": "stdout",
          "text": [
            "3\n",
            "CPU times: user 202 µs, sys: 0 ns, total: 202 µs\n",
            "Wall time: 172 µs\n"
          ]
        }
      ]
    },
    {
      "cell_type": "code",
      "source": [
        "%%time\n",
        "arr = [5,2,1,6,7,3,1,5,2]\n",
        "arr = sorted(arr)\n",
        "n = len(arr)\n",
        "Median = n//2\n",
        "print(arr[Median])"
      ],
      "metadata": {
        "colab": {
          "base_uri": "https://localhost:8080/"
        },
        "id": "jfufDb61i-G6",
        "outputId": "69b0c914-eb8b-4586-9f95-abd3bd503c41"
      },
      "execution_count": 34,
      "outputs": [
        {
          "output_type": "stream",
          "name": "stdout",
          "text": [
            "3\n",
            "CPU times: user 959 µs, sys: 0 ns, total: 959 µs\n",
            "Wall time: 978 µs\n"
          ]
        }
      ]
    },
    {
      "cell_type": "code",
      "source": [
        "%%time\n",
        "import numpy as np\n",
        "arr = [5,2,1,6,7,3,1,5,2]\n",
        "print(np.median(arr))"
      ],
      "metadata": {
        "colab": {
          "base_uri": "https://localhost:8080/"
        },
        "id": "yUGEUVV0ijU0",
        "outputId": "111e7602-ccd0-47d7-a32d-da3d353aedb7"
      },
      "execution_count": 31,
      "outputs": [
        {
          "output_type": "stream",
          "name": "stdout",
          "text": [
            "3.0\n",
            "CPU times: user 2.39 ms, sys: 0 ns, total: 2.39 ms\n",
            "Wall time: 5.62 ms\n"
          ]
        }
      ]
    },
    {
      "cell_type": "markdown",
      "source": [
        "So numpy ans is the slowest answer  \n",
        "apparently first method ans is fastest  \n",
        "second method is in between numpy and mannual\n",
        "\n"
      ],
      "metadata": {
        "id": "Rm4xdaJwjXjx"
      }
    },
    {
      "cell_type": "markdown",
      "source": [
        "**4.What is the gradient of the following function with respect to x and y?\n",
        "$x^2y + y^3sin(x)$**\n"
      ],
      "metadata": {
        "id": "8VOuXBUvXde-"
      }
    },
    {
      "cell_type": "markdown",
      "source": [
        "**ANSWER**\n",
        "The derivative of this function w.r.t x is $2xy + y^3cos(x)$\n",
        "\n",
        "The derivative of this function w.r.t y is $x^2 + 3y^2sin(x)$\n",
        "\n",
        "the formula for  $gradf(x,y)$ = $(df/dx) i + (df/dy) j$\n",
        "\n",
        "hence $gradf(x^2y+y^3sin(x))$ is $(2xy+y^3cos(x))i + (x^2+3y^2sin(x))j$"
      ],
      "metadata": {
        "id": "6jCV-UwY77LO"
      }
    },
    {
      "cell_type": "markdown",
      "source": [
        "**5.Use $JAX$ to confirm the gradient evaluated by your method matches the analytical solution corresponding to a few random values of x and y.**"
      ],
      "metadata": {
        "id": "9C0JiIckXdhj"
      }
    },
    {
      "cell_type": "markdown",
      "source": [
        "**ANSWER**\n",
        "\n",
        "let putting the value x = 2 and y = 3 in my ans\n",
        "\n",
        "putting them in grad wrt to x is 0.76\n",
        "\n",
        "putting them in grad wrt to y is 28.5"
      ],
      "metadata": {
        "id": "FZeB_pRRDwUi"
      }
    },
    {
      "cell_type": "code",
      "source": [
        "import jax\n",
        "import jax.numpy as jnp\n",
        "def f(x, y):\n",
        "    return (x**2)*y + y**3 * jnp.sin(x)\n",
        "\n",
        "# Compute the gradient of f with respect to x\n",
        "grad_f_x = jax.grad(f, argnums=0)\n",
        "\n",
        "# Compute the gradient of f with respect to y\n",
        "grad_f_y = jax.grad(f, argnums=1)\n",
        "\n",
        "x, y = 2.0,3.0\n",
        "gradient_x = grad_f_x(x, y)\n",
        "gradient_y = grad_f_y(x, y)\n",
        "\n",
        "print(f\"The gradient of f with respect to x at x=2 and y=3 is {gradient_x}\")\n",
        "print(f\"The gradient of f with respect to y at x=2 and y=3 is {gradient_y}\")"
      ],
      "metadata": {
        "colab": {
          "base_uri": "https://localhost:8080/"
        },
        "id": "ehSCUT2RDzEg",
        "outputId": "ea557f0e-7a39-4ac6-f541-c5b7ec11846b"
      },
      "execution_count": 26,
      "outputs": [
        {
          "output_type": "stream",
          "name": "stdout",
          "text": [
            "The gradient of f with respect to x at x=2 and y=3 is 0.7640352249145508\n",
            "The gradient of f with respect to y at x=2 and y=3 is 28.551029205322266\n"
          ]
        }
      ]
    },
    {
      "cell_type": "markdown",
      "source": [
        "Hence my ans and function ans is same"
      ],
      "metadata": {
        "id": "XpdP19A-MZ2G"
      }
    },
    {
      "cell_type": "markdown",
      "source": [
        "**6.Use sympy to confirm that you obtain the same gradient analytically.**"
      ],
      "metadata": {
        "id": "lpaUbBCaXdkz"
      }
    },
    {
      "cell_type": "markdown",
      "source": [
        "**7.Create a Python nested dictionary to represent hierarchical information. We want to store record of students and their marks. Something like:**\n",
        "\n",
        "**2022\n",
        "Branch 1\n",
        "Roll Number: 1, Name: N, Marks:\n",
        "Maths: 100, English: 70 …\n",
        "Branch 2\n",
        "2023\n",
        "Branch 1\n",
        "Branch 2\n",
        "2024\n",
        "Branch 1\n",
        "Branch 2\n",
        "2025\n",
        "Branch 1\n",
        "Branch 2**"
      ],
      "metadata": {
        "id": "4nQotOxUXdoC"
      }
    },
    {
      "cell_type": "markdown",
      "source": [
        "**8.Store the same information using Python classes. We have an overall database which is a list of year objects. Each year contains a list of branches. Each branch contains a list of students. Each student has some properties like name, roll number and has marks in some subjects.**"
      ],
      "metadata": {
        "id": "oWjJWVYxXdrJ"
      }
    },
    {
      "cell_type": "markdown",
      "source": [
        "**9.Using matplotlib plot the following functions on the domain: x = 0.5 to 100.0 in steps of 0.5.**\n",
        "\n",
        "\n",
        "\n"
      ],
      "metadata": {
        "id": "d5mzUNb5XdvG"
      }
    },
    {
      "cell_type": "markdown",
      "source": [
        "**10.Using numpy generate a matrix of size 20X5 containing random numbers drawn uniformly from the range of 1 to 2. Using Pandas create a dataframe out of this matrix. Name the columns of the dataframe as “a”, “b”, “c”, “d”, “e”. Find the column with the highest standard deviation. Find the row with the lowest mean.**"
      ],
      "metadata": {
        "id": "8KEJyeXnWYJ6"
      }
    },
    {
      "cell_type": "code",
      "source": [
        "import numpy as np\n",
        "import pandas as pd\n",
        "\n",
        "matrix = np.random.uniform(low=1, high=2, size=(20, 5))\n",
        "df = pd.DataFrame(matrix, columns=[\"a\", \"b\", \"c\", \"d\", \"e\"])\n",
        "\n",
        "stdlist = df.std()\n",
        "maxstd = stdlist.idxmax()\n",
        "\n",
        "row_means = df.mean(axis=1)\n",
        "min_mean_row = row_means.idxmin()\n",
        "# Print the results\n",
        "print(\"DataFrame:\")\n",
        "print(df)\n",
        "print(f\"\\nColumn with the highest standard deviation:{maxstd}\")\n",
        "print(f\"\\nRow with the lowest mean:{min_mean_row}\")"
      ],
      "metadata": {
        "colab": {
          "base_uri": "https://localhost:8080/"
        },
        "id": "1SdAQqyosSws",
        "outputId": "cf0a351a-8590-4a6a-8c48-c27f93faf70f"
      },
      "execution_count": 50,
      "outputs": [
        {
          "output_type": "stream",
          "name": "stdout",
          "text": [
            "DataFrame:\n",
            "           a         b         c         d         e\n",
            "0   1.926112  1.366391  1.778560  1.808073  1.054215\n",
            "1   1.355747  1.346558  1.235920  1.621997  1.353284\n",
            "2   1.031031  1.774050  1.168125  1.757015  1.449407\n",
            "3   1.967964  1.226588  1.098450  1.826845  1.619901\n",
            "4   1.672545  1.018833  1.640804  1.998648  1.047693\n",
            "5   1.234175  1.316735  1.526321  1.645426  1.339785\n",
            "6   1.097335  1.056944  1.872183  1.561860  1.888486\n",
            "7   1.776724  1.514923  1.404096  1.160741  1.446838\n",
            "8   1.998340  1.284703  1.738122  1.366969  1.360575\n",
            "9   1.432811  1.223420  1.742888  1.173282  1.135794\n",
            "10  1.844908  1.482024  1.649849  1.837192  1.519264\n",
            "11  1.539662  1.506776  1.295621  1.963304  1.243578\n",
            "12  1.841972  1.371436  1.367595  1.544713  1.507227\n",
            "13  1.498538  1.613712  1.466394  1.914980  1.069973\n",
            "14  1.537855  1.593219  1.816286  1.668931  1.320352\n",
            "15  1.831152  1.521798  1.808021  1.343073  1.996693\n",
            "16  1.170457  1.146687  1.070543  1.968126  1.344049\n",
            "17  1.516825  1.396450  1.902974  1.599159  1.505055\n",
            "18  1.412469  1.426862  1.967332  1.226194  1.851150\n",
            "19  1.251270  1.387064  1.088938  1.902909  1.540372\n",
            "\n",
            "Column with the highest standard deviation:a\n",
            "\n",
            "Row with the lowest mean:16\n"
          ]
        }
      ]
    },
    {
      "cell_type": "markdown",
      "source": [
        "**11.Add a new column to the dataframe called “f” which is the sum of the columns “a”, “b”, “c”, “d”, “e”. Create another column called “g”. The value in the column “g” should be “LT8” if the value in the column “f” is less than 8 and “GT8” otherwise. Find the number of rows in the dataframe where the value in the column “g” is “LT8”. Find the standard deviation of the column “f” for the rows where the value in the column “g” is “LT8” and “GT8” respectively.**"
      ],
      "metadata": {
        "id": "66PQ7J_ZYV-l"
      }
    },
    {
      "cell_type": "markdown",
      "source": [
        "**12.Write a small piece of code to explain broadcasting in numpy.**\n"
      ],
      "metadata": {
        "id": "_FNZbFmsYVmQ"
      }
    },
    {
      "cell_type": "code",
      "source": [
        "#Broadcasting in numpy is a function using which we can operate between two arrays of non similar dimensions\n",
        "arr = np.array([[5,6,2,1],[8,6,4,2]])\n",
        "arr2 = np.array([2,3,4,8])\n",
        "\n",
        "arr3 = arr + arr2\n",
        "# Broadcasting replicates therow in arr2\n",
        "print(arr)\n",
        "print(\"\\n\",arr2)\n",
        "print(\"\\n\",arr3)"
      ],
      "metadata": {
        "colab": {
          "base_uri": "https://localhost:8080/"
        },
        "id": "mLtRGWeFu8Rr",
        "outputId": "a831cb14-79ed-45e3-d0cb-f39ce37379fe"
      },
      "execution_count": 58,
      "outputs": [
        {
          "output_type": "stream",
          "name": "stdout",
          "text": [
            "[[5 6 2 1]\n",
            " [8 6 4 2]]\n",
            "\n",
            " [2 3 4 8]\n",
            "\n",
            " [[ 7  9  6  9]\n",
            " [10  9  8 10]]\n"
          ]
        }
      ]
    },
    {
      "cell_type": "markdown",
      "source": [
        "**13.Write a function to compute the argmin of a numpy array. The function should take a numpy array as input and return the index of the minimum element. You can use the np.argmin function to verify your solution.**\n"
      ],
      "metadata": {
        "id": "IRWckDvFYVuI"
      }
    },
    {
      "cell_type": "code",
      "source": [
        "arr = [5,2,51,66,7,3,1,5,2]\n",
        "\n",
        "def Argmin(arr):\n",
        "  ind = 0\n",
        "  for i in range(len(arr)):\n",
        "    if(arr[ind] > arr[i]):\n",
        "      ind = i\n",
        "  return ind\n",
        "index = Argmin(arr)\n",
        "print(index)"
      ],
      "metadata": {
        "id": "OvuEWhJ0YZCB",
        "colab": {
          "base_uri": "https://localhost:8080/"
        },
        "outputId": "f5effbe1-5810-45df-827b-6904b793f4c9"
      },
      "execution_count": 48,
      "outputs": [
        {
          "output_type": "stream",
          "name": "stdout",
          "text": [
            "6\n",
            "CPU times: user 1.54 ms, sys: 0 ns, total: 1.54 ms\n",
            "Wall time: 1.59 ms\n"
          ]
        }
      ]
    },
    {
      "cell_type": "code",
      "source": [
        "x=np.argmin(arr)\n",
        "print(x)"
      ],
      "metadata": {
        "colab": {
          "base_uri": "https://localhost:8080/"
        },
        "id": "8Uxr3e9slrrP",
        "outputId": "ba9ef31f-9bab-483d-8ede-32978a7f3aa0"
      },
      "execution_count": 49,
      "outputs": [
        {
          "output_type": "stream",
          "name": "stdout",
          "text": [
            "6\n"
          ]
        }
      ]
    },
    {
      "cell_type": "markdown",
      "source": [
        "Hence My ans is correct\n",
        "\n"
      ],
      "metadata": {
        "id": "RWw6pwDUnMhs"
      }
    }
  ]
}